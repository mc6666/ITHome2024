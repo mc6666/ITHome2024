{
 "cells": [
  {
   "cell_type": "markdown",
   "id": "612c677f-9333-4cce-8710-676d0198a354",
   "metadata": {},
   "source": [
    "# index"
   ]
  },
  {
   "cell_type": "code",
   "execution_count": 1,
   "id": "23c26ac3-2bb8-4679-a65e-006831b26de2",
   "metadata": {},
   "outputs": [],
   "source": [
    "import redis\n",
    "from redis.commands.json.path import Path\n",
    "import redis.commands.search.aggregation as aggregations\n",
    "import redis.commands.search.reducers as reducers\n",
    "from redis.commands.search.field import TextField, NumericField, TagField\n",
    "from redis.commands.search.indexDefinition import IndexDefinition, IndexType\n",
    "from redis.commands.search.query import NumericFilter, Query"
   ]
  },
  {
   "cell_type": "code",
   "execution_count": 2,
   "id": "1c34ce1a-c2ef-4384-938b-93c984e57bff",
   "metadata": {},
   "outputs": [],
   "source": [
    "r = redis.Redis(host='localhost', port=6379, decode_responses=True)"
   ]
  },
  {
   "cell_type": "markdown",
   "id": "e5424240-2709-4385-9873-e68fec518774",
   "metadata": {},
   "source": [
    "## test data"
   ]
  },
  {
   "cell_type": "code",
   "execution_count": 3,
   "id": "e0d954f6-85bf-4a09-8fe9-e3223595e557",
   "metadata": {},
   "outputs": [],
   "source": [
    "user1 = {\n",
    "    \"name\": \"Paul John\",\n",
    "    \"email\": \"paul.john@example.com\",\n",
    "    \"age\": 42,\n",
    "    \"city\": \"London\"\n",
    "}\n",
    "user2 = {\n",
    "    \"name\": \"Eden Zamir\",\n",
    "    \"email\": \"eden.zamir@example.com\",\n",
    "    \"age\": 29,\n",
    "    \"city\": \"Tel Aviv\"\n",
    "}\n",
    "user3 = {\n",
    "    \"name\": \"Paul Zamir\",\n",
    "    \"email\": \"paul.zamir@example.com\",\n",
    "    \"age\": 35,\n",
    "    \"city\": \"Tel Aviv\"\n",
    "}"
   ]
  },
  {
   "cell_type": "code",
   "execution_count": 4,
   "id": "4d7c375e-0421-49d3-96c8-00b9dbefa332",
   "metadata": {},
   "outputs": [],
   "source": [
    "schema = (\n",
    "    TextField(\"$.name\", as_name=\"name\"), \n",
    "    TagField(\"$.city\", as_name=\"city\"), \n",
    "    NumericField(\"$.age\", as_name=\"age\")\n",
    ")"
   ]
  },
  {
   "cell_type": "markdown",
   "id": "c490b012-c24b-4e02-8cf4-d17478e304dd",
   "metadata": {},
   "source": [
    "## create index"
   ]
  },
  {
   "cell_type": "code",
   "execution_count": 16,
   "id": "881b7efa-5a40-4451-8e05-6b76d9549de5",
   "metadata": {},
   "outputs": [
    {
     "data": {
      "text/plain": [
       "'OK'"
      ]
     },
     "execution_count": 16,
     "metadata": {},
     "output_type": "execute_result"
    }
   ],
   "source": [
    "rs = r.ft(\"idx:users\")\n",
    "rs.create_index(\n",
    "    schema,\n",
    "    definition=IndexDefinition(\n",
    "        prefix=[\"user:\"], index_type=IndexType.JSON\n",
    "    )\n",
    ")"
   ]
  },
  {
   "cell_type": "code",
   "execution_count": 19,
   "id": "db99dd99-2ed7-4d8d-9cc5-c359d1d9bedf",
   "metadata": {},
   "outputs": [
    {
     "data": {
      "text/plain": [
       "True"
      ]
     },
     "execution_count": 19,
     "metadata": {},
     "output_type": "execute_result"
    }
   ],
   "source": [
    "r.json().set(\"user:1\", Path.root_path(), user1)\n",
    "r.json().set(\"user:2\", Path.root_path(), user2)\n",
    "r.json().set(\"user:3\", Path.root_path(), user3)"
   ]
  },
  {
   "cell_type": "code",
   "execution_count": 27,
   "id": "5f25ad5b-e739-4c99-b062-141d26cd7f90",
   "metadata": {},
   "outputs": [
    {
     "data": {
      "text/plain": [
       "Result{2 total, docs: [Document {'id': 'user:3', 'payload': None, 'json': '{\"name\":\"Paul Zamir\",\"email\":\"paul.zamir@example.com\",\"age\":35,\"city\":\"Tel Aviv\"}'}, Document {'id': 'user:1', 'payload': None, 'json': '{\"name\":\"Paul John\",\"email\":\"paul.john@example.com\",\"age\":42,\"city\":\"London\"}'}]}"
      ]
     },
     "execution_count": 27,
     "metadata": {},
     "output_type": "execute_result"
    }
   ],
   "source": [
    "res = rs.search(\n",
    "    Query(\"Paul @age:[20 50]\")\n",
    ")\n",
    "res"
   ]
  },
  {
   "cell_type": "code",
   "execution_count": 21,
   "id": "bf6fc345-8d5e-445c-b804-13d61584c580",
   "metadata": {
    "scrolled": true
   },
   "outputs": [
    {
     "name": "stdout",
     "output_type": "stream",
     "text": [
      "[['city', 'London', 'count', '1'], ['city', 'Tel Aviv', 'count', '2']]\n"
     ]
    }
   ],
   "source": [
    "req = aggregations.AggregateRequest(\"*\").group_by('@city', reducers.count().alias('count'))\n",
    "print(rs.aggregate(req).rows)"
   ]
  },
  {
   "cell_type": "code",
   "execution_count": 5,
   "id": "bc68e14e-6f0f-476d-9731-4d1afa0bfefb",
   "metadata": {},
   "outputs": [
    {
     "data": {
      "text/plain": [
       "<redis.commands.search.Search at 0x1bee38477d0>"
      ]
     },
     "execution_count": 5,
     "metadata": {},
     "output_type": "execute_result"
    }
   ],
   "source": [
    "r.ft(\"idx:users\")"
   ]
  },
  {
   "cell_type": "code",
   "execution_count": 15,
   "id": "8820fdc3-745a-471b-8f69-55b4d1469254",
   "metadata": {
    "jupyter": {
     "source_hidden": true
    }
   },
   "outputs": [
    {
     "data": {
      "text/plain": [
       "'OK'"
      ]
     },
     "execution_count": 15,
     "metadata": {},
     "output_type": "execute_result"
    }
   ],
   "source": [
    "rs.dropindex(\"idx:users\")"
   ]
  },
  {
   "cell_type": "code",
   "execution_count": null,
   "id": "64c64372-eb0c-4ca1-861b-ca299f46b675",
   "metadata": {},
   "outputs": [],
   "source": []
  }
 ],
 "metadata": {
  "kernelspec": {
   "display_name": "Python 3 (ipykernel)",
   "language": "python",
   "name": "python3"
  },
  "language_info": {
   "codemirror_mode": {
    "name": "ipython",
    "version": 3
   },
   "file_extension": ".py",
   "mimetype": "text/x-python",
   "name": "python",
   "nbconvert_exporter": "python",
   "pygments_lexer": "ipython3",
   "version": "3.12.6"
  }
 },
 "nbformat": 4,
 "nbformat_minor": 5
}
