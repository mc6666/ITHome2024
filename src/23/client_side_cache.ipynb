{
 "cells": [
  {
   "cell_type": "markdown",
   "id": "4d49f46d-a320-4e83-bb46-f5408e40e5a3",
   "metadata": {},
   "source": [
    "# 用戶端快取(Client-side Cache)測試"
   ]
  },
  {
   "cell_type": "code",
   "execution_count": 6,
   "id": "f0453bb6-de87-4b80-9307-cb42873e9348",
   "metadata": {},
   "outputs": [],
   "source": [
    "import redis\n",
    "from redis.cache import CacheConfig\n",
    "\n",
    "r = redis.Redis(\n",
    "    protocol=3,# RESP3 protocol\n",
    "    cache_config=CacheConfig(),# enable client-side caching\n",
    "    decode_responses=True\n",
    ")"
   ]
  },
  {
   "cell_type": "markdown",
   "id": "d2dbbe74-4bf2-4742-8698-934a9a030c81",
   "metadata": {},
   "source": [
    "## 開啟Redis CLI Monitor監看Cache\n",
    "- redis-cli\n",
    "- monitor"
   ]
  },
  {
   "cell_type": "code",
   "execution_count": 7,
   "id": "50b605da-1c48-4c4f-a0ae-7da8378c62b9",
   "metadata": {},
   "outputs": [],
   "source": [
    "r.set(\"city\", \"New York\")\n",
    "cityNameAttempt1 = r.get(\"city\")    # Retrieved from Redis server and cached"
   ]
  },
  {
   "cell_type": "code",
   "execution_count": 9,
   "id": "f1e3be99-4ed7-4675-a54d-97bb1ede44fd",
   "metadata": {},
   "outputs": [],
   "source": [
    "cityNameAttempt2 = r.get(\"city\")    # Retrieved from cache"
   ]
  },
  {
   "cell_type": "code",
   "execution_count": 10,
   "id": "49cb5c66-02fd-410e-a8ff-9aa933e305ae",
   "metadata": {},
   "outputs": [
    {
     "data": {
      "text/plain": [
       "[True]"
      ]
     },
     "execution_count": 10,
     "metadata": {},
     "output_type": "execute_result"
    }
   ],
   "source": [
    "cache = r.get_cache()\n",
    "cache.delete_by_redis_keys([\"city\"])"
   ]
  },
  {
   "cell_type": "code",
   "execution_count": 18,
   "id": "8da15d08-2c81-4e1a-a4d2-f7a747cf7844",
   "metadata": {},
   "outputs": [],
   "source": [
    "r.get(\"city\")    # Retrieved from cache"
   ]
  },
  {
   "cell_type": "code",
   "execution_count": 21,
   "id": "1e37bead-331b-45ad-9f02-cf6a9377ebf9",
   "metadata": {},
   "outputs": [
    {
     "data": {
      "text/plain": [
       "0"
      ]
     },
     "execution_count": 21,
     "metadata": {},
     "output_type": "execute_result"
    }
   ],
   "source": [
    "cache.flush()"
   ]
  },
  {
   "cell_type": "code",
   "execution_count": 22,
   "id": "771c1964-09dd-44e7-924b-1e1dc0675805",
   "metadata": {},
   "outputs": [
    {
     "data": {
      "text/plain": [
       "0"
      ]
     },
     "execution_count": 22,
     "metadata": {},
     "output_type": "execute_result"
    }
   ],
   "source": [
    "r.delete(\"city\")"
   ]
  },
  {
   "cell_type": "code",
   "execution_count": null,
   "id": "4b6d0206-0411-40dc-8da0-52f1ad1d1cc2",
   "metadata": {},
   "outputs": [],
   "source": []
  }
 ],
 "metadata": {
  "kernelspec": {
   "display_name": "Python 3 (ipykernel)",
   "language": "python",
   "name": "python3"
  },
  "language_info": {
   "codemirror_mode": {
    "name": "ipython",
    "version": 3
   },
   "file_extension": ".py",
   "mimetype": "text/x-python",
   "name": "python",
   "nbconvert_exporter": "python",
   "pygments_lexer": "ipython3",
   "version": "3.12.6"
  }
 },
 "nbformat": 4,
 "nbformat_minor": 5
}
