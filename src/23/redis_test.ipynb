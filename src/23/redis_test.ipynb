{
 "cells": [
  {
   "cell_type": "markdown",
   "id": "e8b5e3eb-dcac-4c25-bcb7-fa6593820fe5",
   "metadata": {},
   "source": [
    "## redis connection"
   ]
  },
  {
   "cell_type": "code",
   "execution_count": 1,
   "id": "addf0876-de60-4526-a20e-1d25ed4510bf",
   "metadata": {},
   "outputs": [],
   "source": [
    "import redis"
   ]
  },
  {
   "cell_type": "code",
   "execution_count": 6,
   "id": "c7f0fc75-a8f4-423f-8ce4-5c56f34ff4db",
   "metadata": {},
   "outputs": [],
   "source": [
    "r = redis.Redis(host='localhost', port=6379, decode_responses=True)"
   ]
  },
  {
   "cell_type": "code",
   "execution_count": 7,
   "id": "122f8897-a5f9-405d-9712-27d9f665f86a",
   "metadata": {},
   "outputs": [
    {
     "data": {
      "text/plain": [
       "True"
      ]
     },
     "execution_count": 7,
     "metadata": {},
     "output_type": "execute_result"
    }
   ],
   "source": [
    "r.set('key1', 'value1')"
   ]
  },
  {
   "cell_type": "code",
   "execution_count": 15,
   "id": "603e8869-6c7e-4917-a39b-2e089c7e2ac2",
   "metadata": {},
   "outputs": [
    {
     "data": {
      "text/plain": [
       "'value1'"
      ]
     },
     "execution_count": 15,
     "metadata": {},
     "output_type": "execute_result"
    }
   ],
   "source": [
    "r.get('key1')"
   ]
  },
  {
   "cell_type": "code",
   "execution_count": 21,
   "id": "58f367c3-8607-4e52-aec2-2bcdbfe1ee68",
   "metadata": {},
   "outputs": [
    {
     "data": {
      "text/plain": [
       "0"
      ]
     },
     "execution_count": 21,
     "metadata": {},
     "output_type": "execute_result"
    }
   ],
   "source": [
    "r.exists(\"key1\")"
   ]
  },
  {
   "cell_type": "code",
   "execution_count": 16,
   "id": "47cc49ff-46b4-486d-a15a-a20cb17bde73",
   "metadata": {},
   "outputs": [
    {
     "data": {
      "text/plain": [
       "True"
      ]
     },
     "execution_count": 16,
     "metadata": {},
     "output_type": "execute_result"
    }
   ],
   "source": [
    "r.setex(\"important_key\", 100, \"important_value\")"
   ]
  },
  {
   "cell_type": "code",
   "execution_count": 19,
   "id": "01d29702-9079-45e2-8ec0-aa77c698c3f1",
   "metadata": {},
   "outputs": [],
   "source": [
    "r.getex(\"important_key\")"
   ]
  },
  {
   "cell_type": "code",
   "execution_count": 20,
   "id": "6c0c0166-8052-463b-8239-f740aa384fd4",
   "metadata": {
    "jupyter": {
     "source_hidden": true
    }
   },
   "outputs": [
    {
     "data": {
      "text/plain": [
       "1"
      ]
     },
     "execution_count": 20,
     "metadata": {},
     "output_type": "execute_result"
    }
   ],
   "source": [
    "r.delete('key1')"
   ]
  },
  {
   "cell_type": "markdown",
   "id": "eda4d6b8-59a4-457e-8339-014834909e7d",
   "metadata": {},
   "source": [
    "## List"
   ]
  },
  {
   "cell_type": "code",
   "execution_count": 27,
   "id": "fd20ab0e-cb1e-4271-bee6-49531ee682d3",
   "metadata": {},
   "outputs": [
    {
     "data": {
      "text/plain": [
       "2"
      ]
     },
     "execution_count": 27,
     "metadata": {},
     "output_type": "execute_result"
    }
   ],
   "source": [
    "r.lpush('bikes:repairs', 'bike:1', 'bike:2')"
   ]
  },
  {
   "cell_type": "code",
   "execution_count": 28,
   "id": "b67e4ceb-1264-4d8a-915b-7d27fb5dadca",
   "metadata": {},
   "outputs": [
    {
     "data": {
      "text/plain": [
       "'bike:2'"
      ]
     },
     "execution_count": 28,
     "metadata": {},
     "output_type": "execute_result"
    }
   ],
   "source": [
    "r.lpop('bikes:repairs')"
   ]
  },
  {
   "cell_type": "markdown",
   "id": "f73b19a9-e591-4fa1-b756-de59cad7949c",
   "metadata": {},
   "source": [
    "## Hash"
   ]
  },
  {
   "cell_type": "code",
   "execution_count": 9,
   "id": "a5ee25ca-9fd9-4b99-ab5d-7917396ba436",
   "metadata": {},
   "outputs": [
    {
     "data": {
      "text/plain": [
       "4"
      ]
     },
     "execution_count": 9,
     "metadata": {},
     "output_type": "execute_result"
    }
   ],
   "source": [
    "r.hset('user-session:123', mapping={\n",
    "    'name': 'John',\n",
    "    \"surname\": 'Smith',\n",
    "    \"company\": 'Redis',\n",
    "    \"age\": 29\n",
    "})"
   ]
  },
  {
   "cell_type": "code",
   "execution_count": 10,
   "id": "74dcf29c-61a2-4afa-bd4c-9bed2773dacb",
   "metadata": {
    "jupyter": {
     "source_hidden": true
    }
   },
   "outputs": [
    {
     "data": {
      "text/plain": [
       "{'name': 'John', 'surname': 'Smith', 'company': 'Redis', 'age': '29'}"
      ]
     },
     "execution_count": 10,
     "metadata": {},
     "output_type": "execute_result"
    }
   ],
   "source": [
    "r.hgetall('user-session:123')"
   ]
  },
  {
   "cell_type": "code",
   "execution_count": 11,
   "id": "63635dd3-b6ae-4acc-bc4d-a633d725feab",
   "metadata": {},
   "outputs": [
    {
     "data": {
      "text/plain": [
       "'Smith'"
      ]
     },
     "execution_count": 11,
     "metadata": {},
     "output_type": "execute_result"
    }
   ],
   "source": [
    "r.hgetall('user-session:123')['surname']"
   ]
  },
  {
   "cell_type": "markdown",
   "id": "8d18d4fb-88b3-4230-afe1-be7477b89eca",
   "metadata": {},
   "source": [
    "## Set"
   ]
  },
  {
   "cell_type": "code",
   "execution_count": 22,
   "id": "5cb7d4c0-c56f-445a-af35-09ffdfa9e374",
   "metadata": {},
   "outputs": [
    {
     "data": {
      "text/plain": [
       "True"
      ]
     },
     "execution_count": 22,
     "metadata": {},
     "output_type": "execute_result"
    }
   ],
   "source": [
    "dict_data = {\n",
    "    \"employee_name\": \"Adam Adams\",\n",
    "    \"employee_age\": 30,\n",
    "    \"position\": \"Software Engineer\",\n",
    "}\n",
    "\n",
    "r.mset(dict_data)"
   ]
  },
  {
   "cell_type": "code",
   "execution_count": 23,
   "id": "49632a49-3c58-4003-a01f-28d0cca2c5a8",
   "metadata": {},
   "outputs": [
    {
     "data": {
      "text/plain": [
       "['Adam Adams', '30', 'Software Engineer', None]"
      ]
     },
     "execution_count": 23,
     "metadata": {},
     "output_type": "execute_result"
    }
   ],
   "source": [
    "r.mget(\"employee_name\", \"employee_age\", \"position\", \"non_existing\")"
   ]
  },
  {
   "cell_type": "code",
   "execution_count": null,
   "id": "c7ae955f-8fc3-4442-89ad-363c51bd5f6b",
   "metadata": {},
   "outputs": [],
   "source": []
  }
 ],
 "metadata": {
  "kernelspec": {
   "display_name": "Python 3 (ipykernel)",
   "language": "python",
   "name": "python3"
  },
  "language_info": {
   "codemirror_mode": {
    "name": "ipython",
    "version": 3
   },
   "file_extension": ".py",
   "mimetype": "text/x-python",
   "name": "python",
   "nbconvert_exporter": "python",
   "pygments_lexer": "ipython3",
   "version": "3.12.6"
  }
 },
 "nbformat": 4,
 "nbformat_minor": 5
}
