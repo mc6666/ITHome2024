{
 "cells": [
  {
   "cell_type": "markdown",
   "id": "a982a140",
   "metadata": {},
   "source": [
    "## Frozen Lake"
   ]
  },
  {
   "cell_type": "code",
   "execution_count": 1,
   "id": "0c29b881",
   "metadata": {},
   "outputs": [],
   "source": [
    "# 載入相關套件\n",
    "import numpy as np\n",
    "import gymnasium as gym"
   ]
  },
  {
   "cell_type": "markdown",
   "id": "25707d92",
   "metadata": {},
   "source": [
    "## Random walk"
   ]
  },
  {
   "cell_type": "code",
   "execution_count": null,
   "id": "229c4b1e",
   "metadata": {},
   "outputs": [],
   "source": [
    "env = gym.make('FrozenLake-v1', desc=None, map_name=\"4x4\", is_slippery=False, render_mode=\"human\")\n",
    "env.reset()\n",
    "\n",
    "for _ in range(30):\n",
    "    action = env.action_space.sample()  # this is where you would insert your policy\n",
    "    observation, reward, terminated, truncated, info = env.step(action)\n",
    "\n",
    "    if terminated or truncated:\n",
    "        observation, info = env.reset()\n",
    "\n",
    "env.close()"
   ]
  },
  {
   "cell_type": "markdown",
   "id": "92dca881",
   "metadata": {},
   "source": [
    "## Training"
   ]
  },
  {
   "cell_type": "code",
   "execution_count": 2,
   "id": "da15e3d8",
   "metadata": {},
   "outputs": [],
   "source": [
    "# 值循環函數\n",
    "def value_iteration(env, theta=0.0001, discount_factor=1.0):\n",
    "    # 計算行動值函數\n",
    "    def one_step_lookahead(state, V):\n",
    "        A = np.zeros(nA)\n",
    "        for a in range(nA):\n",
    "            for prob, next_state, reward, done in env.P[state][a]:\n",
    "                A[a] += prob * (reward + discount_factor * V[next_state])\n",
    "        return A\n",
    "\n",
    "    # 狀態值函數初始化\n",
    "    V = np.zeros(nS)\n",
    "    while True:\n",
    "        delta = 0\n",
    "        # 更新每個狀態值的函數\n",
    "        for s in range(nS):\n",
    "            # 計算下一步的行動值函數\n",
    "            A = one_step_lookahead(s, V)\n",
    "            best_action_value = np.max(A)\n",
    "            # 比較更新前後的差值，取最大值\n",
    "            delta = max(delta, np.abs(best_action_value - V[s]))\n",
    "            # 更新狀態值函數\n",
    "            V[s] = best_action_value        \n",
    "        # 若最大差值 < 門檻值，則停止評估\n",
    "        if delta < theta:\n",
    "            break\n",
    "\n",
    "    # 一開始採隨機策略，往上/下/左/右走的機率(π)均等\n",
    "    policy = np.zeros([nS, nA])\n",
    "    for s in range(nS):\n",
    "        # 計算下一步的行動值函數\n",
    "        A = one_step_lookahead(s, V)\n",
    "        # 選擇最佳行動\n",
    "        best_action = np.argmax(A)\n",
    "        # 永遠採取最佳行動\n",
    "        policy[s, best_action] = 1.0\n",
    "    \n",
    "    return policy, V            "
   ]
  },
  {
   "cell_type": "code",
   "execution_count": 5,
   "id": "43544106",
   "metadata": {},
   "outputs": [
    {
     "name": "stdout",
     "output_type": "stream",
     "text": [
      "4x4 狀態值函數:\n",
      "[[0.59049 0.6561  0.729   0.6561 ]\n",
      " [0.6561  0.      0.81    0.     ]\n",
      " [0.729   0.81    0.9     0.     ]\n",
      " [0.      0.9     1.      0.     ]]\n"
     ]
    }
   ],
   "source": [
    "env = gym.make('FrozenLake-v1', desc=None, map_name=\"4x4\", is_slippery=False)\n",
    "env.reset()\n",
    "\n",
    "nS = env.observation_space.n\n",
    "nA = env.action_space.n\n",
    "\n",
    "\n",
    "# 執行值循環\n",
    "policy, v = value_iteration(env, discount_factor=0.9)\n",
    "env.close()\n",
    "print(\"4x4 狀態值函數:\")\n",
    "print(v.reshape((4, 4)))"
   ]
  },
  {
   "cell_type": "code",
   "execution_count": 20,
   "id": "9113bc7b",
   "metadata": {},
   "outputs": [],
   "source": [
    "# 0: Move left\n",
    "# 1: Move down\n",
    "# 2: Move right\n",
    "# 3: Move up\n",
    "v = v.reshape((4, 4))\n",
    "v[4-1, 4-1] = 999\n",
    "def get_action_with_max_value(row, column):\n",
    "    max_value = -999\n",
    "    selected_action = 0\n",
    "    for action, (i, j) in enumerate([(0, -1), (1, 0), (0, 1), (-1, 0)]):\n",
    "        if 0<=row+i<4 and 0<=column+j<4 and v[row+i, column+j] > max_value:\n",
    "            max_value = v[row+i, column+j]\n",
    "            selected_action = action\n",
    "    return selected_action"
   ]
  },
  {
   "cell_type": "code",
   "execution_count": 22,
   "id": "0c6d6e85",
   "metadata": {},
   "outputs": [],
   "source": [
    "env = gym.make('FrozenLake-v1', desc=None, map_name=\"4x4\", is_slippery=False, render_mode=\"human\")\n",
    "observation, info = env.reset()\n",
    "\n",
    "for _ in range(30):\n",
    "    # action = env.action_space.sample()  \n",
    "    row, column = divmod(observation, 4)\n",
    "    action = get_action_with_max_value(row, column)\n",
    "    # print(row, column, action)\n",
    "    observation, reward, terminated, truncated, info = env.step(action)\n",
    "\n",
    "    if terminated or truncated:\n",
    "        observation, info = env.reset()\n",
    "\n",
    "env.close()"
   ]
  },
  {
   "cell_type": "code",
   "execution_count": null,
   "id": "cec95af4",
   "metadata": {},
   "outputs": [],
   "source": []
  }
 ],
 "metadata": {
  "kernelspec": {
   "display_name": "Python 3 (ipykernel)",
   "language": "python",
   "name": "python3"
  },
  "language_info": {
   "codemirror_mode": {
    "name": "ipython",
    "version": 3
   },
   "file_extension": ".py",
   "mimetype": "text/x-python",
   "name": "python",
   "nbconvert_exporter": "python",
   "pygments_lexer": "ipython3",
   "version": "3.9.13"
  }
 },
 "nbformat": 4,
 "nbformat_minor": 5
}
