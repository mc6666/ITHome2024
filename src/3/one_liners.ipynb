{
 "cells": [
  {
   "cell_type": "markdown",
   "id": "62342747",
   "metadata": {},
   "source": [
    "# One liners"
   ]
  },
  {
   "cell_type": "markdown",
   "id": "3feca2cf",
   "metadata": {},
   "source": [
    "## 刪除重複值"
   ]
  },
  {
   "cell_type": "code",
   "execution_count": 32,
   "id": "f179c1b1",
   "metadata": {},
   "outputs": [
    {
     "data": {
      "text/plain": [
       "{0, 1, 2, 3}"
      ]
     },
     "execution_count": 32,
     "metadata": {},
     "output_type": "execute_result"
    }
   ],
   "source": [
    "list1 = [1, 2, 3, 0, 3, 2, 1]\n",
    "set(list1)"
   ]
  },
  {
   "cell_type": "markdown",
   "id": "dd1c7c98",
   "metadata": {},
   "source": [
    "## 計算每個值的發生頻率"
   ]
  },
  {
   "cell_type": "code",
   "execution_count": 34,
   "id": "327a4eb4",
   "metadata": {},
   "outputs": [
    {
     "data": {
      "text/plain": [
       "{1: 3, 2: 4, 3: 5, 4: 2, 5: 1, 6: 3}"
      ]
     },
     "execution_count": 34,
     "metadata": {},
     "output_type": "execute_result"
    }
   ],
   "source": [
    "from collections import Counter\n",
    "\n",
    "# 測試資料\n",
    "mylst = [1,1,1,2,2,2,2,3,3,3,3,3,4,4,5,6,6,6]\n",
    "dict(Counter(mylst))"
   ]
  },
  {
   "cell_type": "markdown",
   "id": "d4d51445",
   "metadata": {},
   "source": [
    "## 兩個值對調"
   ]
  },
  {
   "cell_type": "code",
   "execution_count": 28,
   "id": "661a3650",
   "metadata": {
    "scrolled": true
   },
   "outputs": [
    {
     "data": {
      "text/plain": [
       "(200, 100)"
      ]
     },
     "execution_count": 28,
     "metadata": {},
     "output_type": "execute_result"
    }
   ],
   "source": [
    "x, y = 100, 200\n",
    "temp = x\n",
    "x = y\n",
    "y = temp\n",
    "# 測試\n",
    "x, y"
   ]
  },
  {
   "cell_type": "markdown",
   "id": "08414ae4",
   "metadata": {},
   "source": [
    "## 字串轉陣列"
   ]
  },
  {
   "cell_type": "code",
   "execution_count": 35,
   "id": "051dd1fe",
   "metadata": {},
   "outputs": [
    {
     "data": {
      "text/plain": [
       "['零', '一', '二', '三', '四', '五', '六', '七', '八', '九']"
      ]
     },
     "execution_count": 35,
     "metadata": {},
     "output_type": "execute_result"
    }
   ],
   "source": [
    "values = list('零一二三四五六七八九')\n",
    "values"
   ]
  },
  {
   "cell_type": "markdown",
   "id": "1af99ecc",
   "metadata": {},
   "source": [
    "## 陣列轉字串"
   ]
  },
  {
   "cell_type": "code",
   "execution_count": 36,
   "id": "bb8a57be",
   "metadata": {},
   "outputs": [
    {
     "data": {
      "text/plain": [
       "'零一二三四五六七八九'"
      ]
     },
     "execution_count": 36,
     "metadata": {},
     "output_type": "execute_result"
    }
   ],
   "source": [
    "list1 = ['零', '一', '二', '三', '四', '五', '六', '七', '八', '九']\n",
    "''.join(list1)"
   ]
  },
  {
   "cell_type": "markdown",
   "id": "f990c427",
   "metadata": {},
   "source": [
    "## 陣列反轉(Reverse)"
   ]
  },
  {
   "cell_type": "code",
   "execution_count": 37,
   "id": "e4e99ef9",
   "metadata": {
    "scrolled": true
   },
   "outputs": [
    {
     "data": {
      "text/plain": [
       "['九', '八', '七', '六', '五', '四', '三', '二', '一', '零']"
      ]
     },
     "execution_count": 37,
     "metadata": {},
     "output_type": "execute_result"
    }
   ],
   "source": [
    "values = list('零一二三四五六七八九')\n",
    "values[::-1]"
   ]
  },
  {
   "cell_type": "markdown",
   "id": "525b747b",
   "metadata": {},
   "source": [
    "## 顯示記憶體用量"
   ]
  },
  {
   "cell_type": "code",
   "execution_count": 40,
   "id": "2456f7d4",
   "metadata": {},
   "outputs": [
    {
     "data": {
      "text/plain": [
       "152"
      ]
     },
     "execution_count": 40,
     "metadata": {},
     "output_type": "execute_result"
    }
   ],
   "source": [
    "import sys\n",
    "\n",
    "mylst = ['India', 'Paris', 'London', 'Italy', 'Rome', '台灣']\n",
    "sys.getsizeof(mylst)"
   ]
  },
  {
   "cell_type": "markdown",
   "id": "51f3e92a",
   "metadata": {},
   "source": [
    "## 取偶數"
   ]
  },
  {
   "cell_type": "code",
   "execution_count": 1,
   "id": "2e0d363f",
   "metadata": {
    "scrolled": true
   },
   "outputs": [
    {
     "name": "stdout",
     "output_type": "stream",
     "text": [
      "2\n",
      "4\n",
      "6\n",
      "8\n",
      "10\n",
      "12\n",
      "14\n",
      "16\n",
      "18\n",
      "20\n",
      "22\n",
      "24\n",
      "26\n",
      "28\n",
      "30\n",
      "32\n",
      "34\n",
      "36\n",
      "38\n",
      "40\n",
      "42\n",
      "44\n",
      "46\n",
      "48\n",
      "50\n",
      "52\n",
      "54\n",
      "56\n",
      "58\n",
      "60\n",
      "62\n",
      "64\n",
      "66\n",
      "68\n",
      "70\n",
      "72\n",
      "74\n",
      "76\n",
      "78\n",
      "80\n",
      "82\n",
      "84\n",
      "86\n",
      "88\n",
      "90\n",
      "92\n",
      "94\n",
      "96\n",
      "98\n",
      "100\n"
     ]
    }
   ],
   "source": [
    "for i in range(2, 101, 2):\n",
    "    print(i)"
   ]
  },
  {
   "cell_type": "markdown",
   "id": "38f5e9fe",
   "metadata": {},
   "source": [
    "## List comprehensive"
   ]
  },
  {
   "cell_type": "code",
   "execution_count": 2,
   "id": "8bdf42d1",
   "metadata": {},
   "outputs": [
    {
     "data": {
      "text/plain": [
       "[2,\n",
       " 4,\n",
       " 6,\n",
       " 8,\n",
       " 10,\n",
       " 12,\n",
       " 14,\n",
       " 16,\n",
       " 18,\n",
       " 20,\n",
       " 22,\n",
       " 24,\n",
       " 26,\n",
       " 28,\n",
       " 30,\n",
       " 32,\n",
       " 34,\n",
       " 36,\n",
       " 38,\n",
       " 40,\n",
       " 42,\n",
       " 44,\n",
       " 46,\n",
       " 48,\n",
       " 50,\n",
       " 52,\n",
       " 54,\n",
       " 56,\n",
       " 58,\n",
       " 60,\n",
       " 62,\n",
       " 64,\n",
       " 66,\n",
       " 68,\n",
       " 70,\n",
       " 72,\n",
       " 74,\n",
       " 76,\n",
       " 78,\n",
       " 80,\n",
       " 82,\n",
       " 84,\n",
       " 86,\n",
       " 88,\n",
       " 90,\n",
       " 92,\n",
       " 94,\n",
       " 96,\n",
       " 98,\n",
       " 100]"
      ]
     },
     "execution_count": 2,
     "metadata": {},
     "output_type": "execute_result"
    }
   ],
   "source": [
    "[i for i in range(2, 101, 2)]"
   ]
  },
  {
   "cell_type": "code",
   "execution_count": 3,
   "id": "ecd5c579",
   "metadata": {},
   "outputs": [
    {
     "data": {
      "text/plain": [
       "2550"
      ]
     },
     "execution_count": 3,
     "metadata": {},
     "output_type": "execute_result"
    }
   ],
   "source": [
    "sum([i for i in range(2, 101, 2)])"
   ]
  },
  {
   "cell_type": "markdown",
   "id": "ee9ed5f2",
   "metadata": {},
   "source": [
    "## 加上判斷式"
   ]
  },
  {
   "cell_type": "code",
   "execution_count": 4,
   "id": "172726cb",
   "metadata": {
    "scrolled": true
   },
   "outputs": [
    {
     "data": {
      "text/plain": [
       "[2,\n",
       " 4,\n",
       " 6,\n",
       " 8,\n",
       " 10,\n",
       " 12,\n",
       " 14,\n",
       " 16,\n",
       " 18,\n",
       " 20,\n",
       " 22,\n",
       " 24,\n",
       " 26,\n",
       " 28,\n",
       " 30,\n",
       " 32,\n",
       " 34,\n",
       " 36,\n",
       " 38,\n",
       " 40,\n",
       " 42,\n",
       " 44,\n",
       " 46,\n",
       " 48,\n",
       " 50,\n",
       " 52,\n",
       " 54,\n",
       " 56,\n",
       " 58,\n",
       " 60,\n",
       " 62,\n",
       " 64,\n",
       " 66,\n",
       " 68,\n",
       " 70,\n",
       " 72,\n",
       " 74,\n",
       " 76,\n",
       " 78,\n",
       " 80,\n",
       " 82,\n",
       " 84,\n",
       " 86,\n",
       " 88,\n",
       " 90,\n",
       " 92,\n",
       " 94,\n",
       " 96,\n",
       " 98,\n",
       " 100]"
      ]
     },
     "execution_count": 4,
     "metadata": {},
     "output_type": "execute_result"
    }
   ],
   "source": [
    "[i for i in range(2, 101) if i%2 == 0]"
   ]
  },
  {
   "cell_type": "markdown",
   "id": "cf4f4467",
   "metadata": {},
   "source": [
    "## 質數"
   ]
  },
  {
   "cell_type": "code",
   "execution_count": 5,
   "id": "8fc70dbd",
   "metadata": {
    "scrolled": true
   },
   "outputs": [
    {
     "data": {
      "text/plain": [
       "{4,\n",
       " 6,\n",
       " 8,\n",
       " 9,\n",
       " 10,\n",
       " 12,\n",
       " 14,\n",
       " 15,\n",
       " 16,\n",
       " 18,\n",
       " 20,\n",
       " 21,\n",
       " 22,\n",
       " 24,\n",
       " 25,\n",
       " 26,\n",
       " 27,\n",
       " 28,\n",
       " 30,\n",
       " 32,\n",
       " 33,\n",
       " 34,\n",
       " 35,\n",
       " 36,\n",
       " 38,\n",
       " 39,\n",
       " 40,\n",
       " 42,\n",
       " 44,\n",
       " 45,\n",
       " 46,\n",
       " 48,\n",
       " 49,\n",
       " 50,\n",
       " 51,\n",
       " 52,\n",
       " 54,\n",
       " 55,\n",
       " 56,\n",
       " 57,\n",
       " 58,\n",
       " 60,\n",
       " 62,\n",
       " 63,\n",
       " 64,\n",
       " 65,\n",
       " 66,\n",
       " 68,\n",
       " 69,\n",
       " 70,\n",
       " 72,\n",
       " 74,\n",
       " 75,\n",
       " 76,\n",
       " 77,\n",
       " 78,\n",
       " 80,\n",
       " 81,\n",
       " 82,\n",
       " 84,\n",
       " 85,\n",
       " 86,\n",
       " 87,\n",
       " 88,\n",
       " 90,\n",
       " 91,\n",
       " 92,\n",
       " 93,\n",
       " 94,\n",
       " 95,\n",
       " 96,\n",
       " 98,\n",
       " 99,\n",
       " 100}"
      ]
     },
     "execution_count": 5,
     "metadata": {},
     "output_type": "execute_result"
    }
   ],
   "source": [
    "# 顯示非質數\n",
    "set([i for i in range(2, 101) for j in range(2, i) if i%j == 0])"
   ]
  },
  {
   "cell_type": "markdown",
   "id": "568052c9",
   "metadata": {},
   "source": [
    "## 將2~100的list 減掉 非質數的list"
   ]
  },
  {
   "cell_type": "code",
   "execution_count": 7,
   "id": "e288df6e",
   "metadata": {
    "scrolled": true
   },
   "outputs": [
    {
     "data": {
      "text/plain": [
       "{2,\n",
       " 3,\n",
       " 5,\n",
       " 7,\n",
       " 11,\n",
       " 13,\n",
       " 17,\n",
       " 19,\n",
       " 23,\n",
       " 29,\n",
       " 31,\n",
       " 37,\n",
       " 41,\n",
       " 43,\n",
       " 47,\n",
       " 53,\n",
       " 59,\n",
       " 61,\n",
       " 67,\n",
       " 71,\n",
       " 73,\n",
       " 79,\n",
       " 83,\n",
       " 89,\n",
       " 97}"
      ]
     },
     "execution_count": 7,
     "metadata": {},
     "output_type": "execute_result"
    }
   ],
   "source": [
    "set([i for i in range(2, 101)]) - set([i for i in range(2, 101) for j in range(2, i) if i%j== 0]) "
   ]
  },
  {
   "cell_type": "markdown",
   "id": "08bb7494",
   "metadata": {},
   "source": [
    "## List comprehensive + Lambda function"
   ]
  },
  {
   "cell_type": "code",
   "execution_count": 8,
   "id": "c4eee05c",
   "metadata": {},
   "outputs": [
    {
     "data": {
      "text/plain": [
       "6"
      ]
     },
     "execution_count": 8,
     "metadata": {},
     "output_type": "execute_result"
    }
   ],
   "source": [
    "# 階層(factorial )計算\n",
    "from functools import reduce\n",
    "# 3!\n",
    "reduce(lambda x, y: x * y, range(1, 4))"
   ]
  },
  {
   "cell_type": "code",
   "execution_count": 9,
   "id": "36d737c0",
   "metadata": {},
   "outputs": [
    {
     "data": {
      "text/plain": [
       "120"
      ]
     },
     "execution_count": 9,
     "metadata": {},
     "output_type": "execute_result"
    }
   ],
   "source": [
    "# 6!\n",
    "reduce(lambda x, y: x * y, range(1, 6))"
   ]
  },
  {
   "cell_type": "markdown",
   "id": "35411136",
   "metadata": {},
   "source": [
    "## map"
   ]
  },
  {
   "cell_type": "code",
   "execution_count": 10,
   "id": "89d130a6",
   "metadata": {
    "scrolled": true
   },
   "outputs": [
    {
     "data": {
      "text/plain": [
       "[1, 4, 9, 16, 25]"
      ]
     },
     "execution_count": 10,
     "metadata": {},
     "output_type": "execute_result"
    }
   ],
   "source": [
    "list(map(lambda x: x ** 2, range(1, 6)))"
   ]
  },
  {
   "cell_type": "markdown",
   "id": "55eccfd1",
   "metadata": {},
   "source": [
    "## filter"
   ]
  },
  {
   "cell_type": "code",
   "execution_count": 11,
   "id": "8dec133f",
   "metadata": {
    "scrolled": false
   },
   "outputs": [
    {
     "data": {
      "text/plain": [
       "[2,\n",
       " 4,\n",
       " 6,\n",
       " 8,\n",
       " 10,\n",
       " 12,\n",
       " 14,\n",
       " 16,\n",
       " 18,\n",
       " 20,\n",
       " 22,\n",
       " 24,\n",
       " 26,\n",
       " 28,\n",
       " 30,\n",
       " 32,\n",
       " 34,\n",
       " 36,\n",
       " 38,\n",
       " 40,\n",
       " 42,\n",
       " 44,\n",
       " 46,\n",
       " 48,\n",
       " 50,\n",
       " 52,\n",
       " 54,\n",
       " 56,\n",
       " 58,\n",
       " 60,\n",
       " 62,\n",
       " 64,\n",
       " 66,\n",
       " 68,\n",
       " 70,\n",
       " 72,\n",
       " 74,\n",
       " 76,\n",
       " 78,\n",
       " 80,\n",
       " 82,\n",
       " 84,\n",
       " 86,\n",
       " 88,\n",
       " 90,\n",
       " 92,\n",
       " 94,\n",
       " 96,\n",
       " 98,\n",
       " 100]"
      ]
     },
     "execution_count": 11,
     "metadata": {},
     "output_type": "execute_result"
    }
   ],
   "source": [
    "list(filter(lambda x: x % 2 == 0, range(1, 101)))"
   ]
  },
  {
   "cell_type": "markdown",
   "id": "e827735f",
   "metadata": {},
   "source": [
    "## 將1個list組成dictionary：將數字換成大寫"
   ]
  },
  {
   "cell_type": "code",
   "execution_count": 12,
   "id": "7e5090ad",
   "metadata": {},
   "outputs": [
    {
     "data": {
      "text/plain": [
       "{0: '零',\n",
       " 1: '一',\n",
       " 2: '二',\n",
       " 3: '三',\n",
       " 4: '四',\n",
       " 5: '五',\n",
       " 6: '六',\n",
       " 7: '七',\n",
       " 8: '八',\n",
       " 9: '九'}"
      ]
     },
     "execution_count": 12,
     "metadata": {},
     "output_type": "execute_result"
    }
   ],
   "source": [
    "values = list('零一二三四五六七八九')\n",
    "dict(enumerate(values))"
   ]
  },
  {
   "cell_type": "markdown",
   "id": "27c32f3d",
   "metadata": {},
   "source": [
    "## Dictionary comprehensive + Lambda function"
   ]
  },
  {
   "cell_type": "code",
   "execution_count": 15,
   "id": "3b25b244",
   "metadata": {},
   "outputs": [
    {
     "data": {
      "text/plain": [
       "['四', '八', '六']"
      ]
     },
     "execution_count": 15,
     "metadata": {},
     "output_type": "execute_result"
    }
   ],
   "source": [
    "keys = range(10)\n",
    "values = list('零一二三四五六七八九')\n",
    "dict1 = {keys[i]: values[i] for i in range(len(keys))}\n",
    "# 測試\n",
    "[dict1[int(i)] for i in list('486')]"
   ]
  },
  {
   "cell_type": "code",
   "execution_count": 16,
   "id": "45c51046",
   "metadata": {},
   "outputs": [
    {
     "data": {
      "text/plain": [
       "'四八六'"
      ]
     },
     "execution_count": 16,
     "metadata": {},
     "output_type": "execute_result"
    }
   ],
   "source": [
    "# 將執行結果合併\n",
    "''.join([dict1[int(i)] for i in list('486')])"
   ]
  },
  {
   "cell_type": "markdown",
   "id": "70f252e4",
   "metadata": {},
   "source": [
    "## 依dictionary的value排序"
   ]
  },
  {
   "cell_type": "code",
   "execution_count": 21,
   "id": "924800c5",
   "metadata": {},
   "outputs": [
    {
     "data": {
      "text/plain": [
       "[(1, '一'),\n",
       " (7, '七'),\n",
       " (3, '三'),\n",
       " (9, '九'),\n",
       " (2, '二'),\n",
       " (5, '五'),\n",
       " (8, '八'),\n",
       " (6, '六'),\n",
       " (4, '四'),\n",
       " (0, '零')]"
      ]
     },
     "execution_count": 21,
     "metadata": {},
     "output_type": "execute_result"
    }
   ],
   "source": [
    "keys = range(10)\n",
    "values = list('零一二三四五六七八九')\n",
    "dict1 = {keys[i]: values[i] for i in range(len(keys))}\n",
    "# 依dictionary的value排序\n",
    "sorted([(k, v) for k, v in dict1.items()], key=lambda x: x[1])"
   ]
  },
  {
   "cell_type": "code",
   "execution_count": 22,
   "id": "763683d9",
   "metadata": {},
   "outputs": [
    {
     "data": {
      "text/plain": [
       "[(0, '零'),\n",
       " (1, '一'),\n",
       " (2, '二'),\n",
       " (3, '三'),\n",
       " (4, '四'),\n",
       " (5, '五'),\n",
       " (6, '六'),\n",
       " (7, '七'),\n",
       " (8, '八'),\n",
       " (9, '九')]"
      ]
     },
     "execution_count": 22,
     "metadata": {},
     "output_type": "execute_result"
    }
   ],
   "source": [
    "# 依dictionary的key排序\n",
    "sorted([(k, v) for k, v in dict1.items()], key=lambda x: x[0])"
   ]
  },
  {
   "cell_type": "code",
   "execution_count": 24,
   "id": "821af410",
   "metadata": {},
   "outputs": [
    {
     "data": {
      "text/plain": [
       "(0, '零')"
      ]
     },
     "execution_count": 24,
     "metadata": {},
     "output_type": "execute_result"
    }
   ],
   "source": [
    "# 找出value最大值\n",
    "max([(k, v) for k, v in dict1.items()], key=lambda x: x[1])"
   ]
  },
  {
   "cell_type": "markdown",
   "id": "2b5d757e",
   "metadata": {},
   "source": [
    "## dictionary key及value互換"
   ]
  },
  {
   "cell_type": "code",
   "execution_count": 25,
   "id": "90a1701f",
   "metadata": {
    "scrolled": true
   },
   "outputs": [
    {
     "data": {
      "text/plain": [
       "{'零': 0,\n",
       " '一': 1,\n",
       " '二': 2,\n",
       " '三': 3,\n",
       " '四': 4,\n",
       " '五': 5,\n",
       " '六': 6,\n",
       " '七': 7,\n",
       " '八': 8,\n",
       " '九': 9}"
      ]
     },
     "execution_count": 25,
     "metadata": {},
     "output_type": "execute_result"
    }
   ],
   "source": [
    "# k, v --> v: k\n",
    "{v: k for k, v in dict1.items()} "
   ]
  },
  {
   "cell_type": "markdown",
   "id": "a5428374",
   "metadata": {},
   "source": [
    "## 合併兩個dictionary"
   ]
  },
  {
   "cell_type": "code",
   "execution_count": 26,
   "id": "1942c30d",
   "metadata": {},
   "outputs": [
    {
     "data": {
      "text/plain": [
       "{'a': 1, 'b': 2, 'c': 3, 'd': 4}"
      ]
     },
     "execution_count": 26,
     "metadata": {},
     "output_type": "execute_result"
    }
   ],
   "source": [
    "dict1 = {'a': 1, 'b': 2}\n",
    "dict2 = {'c': 3, 'd': 4}\n",
    "# 測試\n",
    "{**dict1, **dict2}"
   ]
  },
  {
   "cell_type": "markdown",
   "id": "3243a651",
   "metadata": {},
   "source": [
    "## One liner + 遞迴(Recursion)"
   ]
  },
  {
   "cell_type": "code",
   "execution_count": 27,
   "id": "e8331eb9",
   "metadata": {
    "scrolled": true
   },
   "outputs": [
    {
     "data": {
      "text/plain": [
       "[1, 2, 3, 5, 8, 13, 21, 34, 55, 89]"
      ]
     },
     "execution_count": 27,
     "metadata": {},
     "output_type": "execute_result"
    }
   ],
   "source": [
    "# 費波那契(Fibonacci)數列\n",
    "def Fib(x): return 1 if x in {0, 1} else Fib(x-1) + Fib(x-2) \n",
    "# 測試前10個數列\n",
    "[Fib(i) for i  in range(1, 11)]"
   ]
  },
  {
   "cell_type": "code",
   "execution_count": 29,
   "id": "d0f0e143",
   "metadata": {},
   "outputs": [
    {
     "data": {
      "text/plain": [
       "(200, 100)"
      ]
     },
     "execution_count": 29,
     "metadata": {},
     "output_type": "execute_result"
    }
   ],
   "source": [
    "x, y = 100, 200\n",
    "y, x = x, y\n",
    "# 測試\n",
    "x, y"
   ]
  },
  {
   "cell_type": "markdown",
   "id": "1cc55024",
   "metadata": {},
   "source": [
    "## One liner 創建類別"
   ]
  },
  {
   "cell_type": "code",
   "execution_count": 30,
   "id": "0ac535f6",
   "metadata": {},
   "outputs": [
    {
     "data": {
      "text/plain": [
       "25"
      ]
     },
     "execution_count": 30,
     "metadata": {},
     "output_type": "execute_result"
    }
   ],
   "source": [
    "class Employee:   \n",
    "    def __init__(self, name, age):   \n",
    "        self.name = name   \n",
    "        self.age = age  \n",
    "        \n",
    "# 測試，實體化物件\n",
    "michael = Employee(\"Michael\", 25) \n",
    "michael.age"
   ]
  },
  {
   "cell_type": "code",
   "execution_count": 31,
   "id": "438ee8f7",
   "metadata": {},
   "outputs": [
    {
     "data": {
      "text/plain": [
       "function"
      ]
     },
     "execution_count": 31,
     "metadata": {},
     "output_type": "execute_result"
    }
   ],
   "source": [
    "# 一行搞定\n",
    "Employee = lambda:None; Employee.name = \"Michael\"; Employee.age = 25\n",
    "type(Employee)"
   ]
  },
  {
   "cell_type": "markdown",
   "id": "614a7982",
   "metadata": {},
   "source": [
    "## Reference\n",
    "- #### [22 Python One-Liners That Every Programmer Should Know](https://levelup.gitconnected.com/22-python-one-liners-that-every-programmer-should-know-3afd4dca1ea0)\n",
    "- #### [20 extremely useful single-line Python codes](https://medium.com/@chenyumei8866/20-extremely-useful-single-line-python-codes-bc553ea4832a)"
   ]
  },
  {
   "cell_type": "code",
   "execution_count": null,
   "id": "a2583bd0",
   "metadata": {},
   "outputs": [],
   "source": []
  }
 ],
 "metadata": {
  "kernelspec": {
   "display_name": "Python 3 (ipykernel)",
   "language": "python",
   "name": "python3"
  },
  "language_info": {
   "codemirror_mode": {
    "name": "ipython",
    "version": 3
   },
   "file_extension": ".py",
   "mimetype": "text/x-python",
   "name": "python",
   "nbconvert_exporter": "python",
   "pygments_lexer": "ipython3",
   "version": "3.9.13"
  }
 },
 "nbformat": 4,
 "nbformat_minor": 5
}
